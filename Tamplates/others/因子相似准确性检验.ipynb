{
 "cells": [
  {
   "cell_type": "code",
   "execution_count": 5,
   "metadata": {
    "collapsed": true
   },
   "outputs": [],
   "source": [
    "import warnings\n",
    "warnings.filterwarnings(\"ignore\")\n",
    "import os\n",
    "os.chdir(\"D:\")\n",
    "import numpy as np\n",
    "import pandas as pd\n",
    "import jaqs_fxdayu\n",
    "jaqs_fxdayu.patch_all()\n",
    "from jaqs.data import DataView\n",
    "from jaqs_fxdayu.data.dataservice import LocalDataService\n",
    "from jaqs_fxdayu.data import signal_function_mod as sfm\n",
    "from jaqs_fxdayu.research.signaldigger import process\n",
    "import jaqs.util as jutill\n",
    "import scipy.stats as scst\n",
    "\n",
    "dataview_folder = '../data'\n",
    "dv = DataView()\n",
    "ds = LocalDataService(fp=dataview_folder)"
   ]
  },
  {
   "cell_type": "code",
   "execution_count": 6,
   "metadata": {},
   "outputs": [
    {
     "name": "stdout",
     "output_type": "stream",
     "text": [
      "Initialize config success.\n",
      "Query data...\n",
      "Query data - query...\n",
      "NOTE: price adjust method is [post adjust]\n",
      "当前请求daily...\n",
      "{'adjust_mode': None, 'fields': 'high_adj,volume,symbol,close_adj,close,open,trade_date,high,trade_status,vwap_adj,low_adj,vwap,open_adj,low'}\n",
      "下载进度1760/3512.\n",
      "当前请求daily...\n",
      "{'adjust_mode': 'post', 'fields': 'close,open,high,vwap,low,symbol,trade_date'}\n",
      "下载进度1760/3512.\n",
      "当前请求query_lb_dailyindicator...\n",
      "{'fields': 'trade_date,turnover_ratio,symbol'}\n",
      "下载进度1760/3512.\n",
      "WARNING: some data is unavailable: \n",
      "    At fields 000748.SZ, 200011.SZ, 200012.SZ, 200016.SZ, 200017.SZ, 200018.SZ, 200019.SZ, 200020.SZ, 200022.SZ, 200025.SZ, 200026.SZ, 200028.SZ, 200029.SZ, 200030.SZ, 200037.SZ, 200045.SZ, 200053.SZ, 200054.SZ, 200055.SZ, 200056.SZ, 200058.SZ, 200152.SZ, 200160.SZ, 200168.SZ, 200413.SZ, 200418.SZ, 200429.SZ, 200468.SZ, 200488.SZ, 200505.SZ, 200512.SZ, 200521.SZ, 200530.SZ, 200539.SZ, 200541.SZ, 200550.SZ, 200553.SZ, 200570.SZ, 200581.SZ, 200596.SZ, 200613.SZ, 200625.SZ, 200706.SZ, 200725.SZ, 200726.SZ, 200761.SZ, 200771.SZ, 200869.SZ, 200986.SZ, 200992.SZ, 600005.SH, 601313.SH\n",
      "Query data - daily fields prepared.\n",
      "WARNING: some data is unavailable: \n",
      "    At fields 000748.SZ, 200011.SZ, 200012.SZ, 200016.SZ, 200017.SZ, 200018.SZ, 200019.SZ, 200020.SZ, 200022.SZ, 200025.SZ, 200026.SZ, 200028.SZ, 200029.SZ, 200030.SZ, 200037.SZ, 200045.SZ, 200053.SZ, 200054.SZ, 200055.SZ, 200056.SZ, 200058.SZ, 200152.SZ, 200160.SZ, 200168.SZ, 200413.SZ, 200418.SZ, 200429.SZ, 200468.SZ, 200488.SZ, 200505.SZ, 200512.SZ, 200521.SZ, 200530.SZ, 200539.SZ, 200541.SZ, 200550.SZ, 200553.SZ, 200570.SZ, 200581.SZ, 200596.SZ, 200613.SZ, 200625.SZ, 200706.SZ, 200725.SZ, 200726.SZ, 200761.SZ, 200771.SZ, 200869.SZ, 200986.SZ, 200992.SZ, 600005.SH\n",
      "Query data - quarterly fields prepared.\n",
      "Query instrument info...\n",
      "Query adj_factor...\n",
      "Data has been successfully prepared.\n"
     ]
    }
   ],
   "source": [
    "#--------------------------------------------------------\n",
    "#define\n",
    "\n",
    "start = 20170101\n",
    "end = 20180101\n",
    "#factor_list  = ['BBI','RVI','Elder','ChaikinVolatility','EPS','PE','PS','ACCA','CTOP','MA10RegressCoeff12','AR','BR','ARBR','np_parent_comp_ttm','total_share','bps']\n",
    "factor_list = ['turnover_ratio','volume','tot_non_cur_liab','tot_liab_shrhldr_eqy','less_selling_dist_exp','total_oper_rev','undistributed_profit','capital_stk']\n",
    "check_factor = ','.join(factor_list)\n",
    "\n",
    "# 非流动负债合计：tot_non_cur_liab\n",
    "# 股东权益：tot_liab_shrhldr_eqy\n",
    "# 销售费用：less_selling_dist_exp\n",
    "# 营业总收入：total_oper_rev\n",
    "# 未分配利润：undistributed_profit\n",
    "# 股本：capital_stk\n",
    "\n",
    "dataview_folder = r'D:/data'\n",
    "ds = LocalDataService(fp = dataview_folder)\n",
    "\n",
    "SH_id = ds.query_index_member(\"000001.SH\", start, end)\n",
    "SZ_id = ds.query_index_member(\"399106.SZ\", start, end)\n",
    "stock_symbol = list(set(SH_id)|set(SZ_id))\n",
    "\n",
    "dv_props = {'start_date': start, 'end_date': end, 'symbol':','.join(stock_symbol),\n",
    "         'fields': check_factor,\n",
    "         'freq': 1,\n",
    "         \"prepare_fields\": True}\n",
    "\n",
    "dv = DataView()\n",
    "dv.init_from_config(dv_props, data_api=ds)\n",
    "dv.prepare_data()"
   ]
  },
  {
   "cell_type": "code",
   "execution_count": 7,
   "metadata": {},
   "outputs": [],
   "source": [
    "# dv.fields"
   ]
  },
  {
   "cell_type": "code",
   "execution_count": 8,
   "metadata": {
    "collapsed": true
   },
   "outputs": [],
   "source": [
    "BLEV_ME = dv.add_formula('BLEV_ME',\"tot_non_cur_liab/(tot_non_cur_liab+tot_liab_shrhldr_eqy)\",is_quarterly=True,add_data=True)\n",
    "OperatingExpenesRate = dv.add_formula('OperatingExpenesRate',\"less_selling_dist_exp/total_oper_rev\",is_quarterly=True,add_data=True)\n",
    "UndivdedProfitPS = dv.add_formula('UndivdedProfitPS',\"undistributed_profit/capital_stk\",is_quarterly=True,add_data=True)\n",
    "VOL121 = dv.add_formula(\"VOL121\",\"Ts_Mean(turnover_ratio,{})\".format(120),overwrite=True,is_quarterly=False,add_data=True)\n",
    "VOL201 = dv.add_formula(\"VOL201\",\"Ts_Mean(turnover_ratio,{})\".format(20),overwrite=True,is_quarterly=False,add_data=True)\n",
    "alpha137 = dv.add_formula(\"alpha137\",\"16*(close-Delay(close,1)+(close-open)/2+Delay(close,1)-Delay(open,1))/If((Abs(high-Delay(close,1))>Abs(low-Delay(close,1))&&Abs(high-Delay(close,1))>Abs(high-Delay(low,1)),Abs(high-Delay(close,1))+Abs(low-Delay(close,1))/2+Abs(Delay(close,1)-Delay(open,1))/4,If(Abs(low-Delay(close,1))>Abs(high-Delay(low,1))&&Abs(low-Delay(close,1))>Abs(high-Delay(close,1)),Abs(low-Delay(close,1))+Abs(high-Delay(close,1))/2+Abs(Delay(close,1)-Delay(open,1))/4,Abs(high-Delay(low,1))+Abs(Delay(close,1)-Delay(open,1))/4)))*Max(Abs(high-Delay(close,1)),Abs(low-Delay(close,1)))\",is_quarterly=False,add_data=True)\n"
   ]
  },
  {
   "cell_type": "code",
   "execution_count": 9,
   "metadata": {
    "collapsed": true
   },
   "outputs": [],
   "source": [
    "def spearman_factor(factor_u='factor_u', factor_j='factor_j', start=20160101, symbol=stock_symbol):\n",
    "    factors = dict()\n",
    "    factors[\"factor_u\"] = dv.get_ts(factor_u).loc[start:][stock_symbol].stack()\n",
    "    factors[\"factor_j\"] = dv.get_ts(factor_j).loc[start:][stock_symbol].stack()\n",
    "\n",
    "    factors_df = pd.concat(factors.values(),axis=1)\n",
    "    factors_df.columns = factors.keys()\n",
    "    factors_df = jutill.fillinf(factors_df).dropna()\n",
    "\n",
    "    # 两个因子的spearman相关性\n",
    "    def get_factors_daily_corr(factors_df,\n",
    "                               f1=\"factor_u\",\n",
    "                               f2=\"factor_j\"):\n",
    "        def _cal_corr(df):\n",
    "            return scst.spearmanr(df[f1], df[f2])[0]\n",
    "\n",
    "        result = factors_df.groupby(['trade_date']).apply(_cal_corr)\n",
    "        result = pd.DataFrame(result)\n",
    "        result.columns = ['spearmanr']\n",
    "        return result\n",
    "\n",
    "    result = get_factors_daily_corr(factors_df,\"factor_u\",\"factor_j\")\n",
    "    t_stat, p_value = scst.ttest_1samp(result, 0)\n",
    "    return result.mean(), p_value # 相关关系均值,相关关系均值的ｔ统计量的p_value"
   ]
  },
  {
   "cell_type": "code",
   "execution_count": 10,
   "metadata": {},
   "outputs": [
    {
     "name": "stdout",
     "output_type": "stream",
     "text": [
      "Query data - query...\n",
      "当前请求query...\n",
      "{'fields': 'BLEV', 'view': 'factor'}\n",
      "下载进度1760/3512.\n",
      "WARNING: some data is unavailable: \n",
      "    At fields 000748.SZ, 200011.SZ, 200012.SZ, 200016.SZ, 200017.SZ, 200018.SZ, 200019.SZ, 200020.SZ, 200022.SZ, 200025.SZ, 200026.SZ, 200028.SZ, 200029.SZ, 200030.SZ, 200037.SZ, 200045.SZ, 200053.SZ, 200054.SZ, 200055.SZ, 200056.SZ, 200058.SZ, 200152.SZ, 200160.SZ, 200168.SZ, 200413.SZ, 200418.SZ, 200429.SZ, 200468.SZ, 200488.SZ, 200505.SZ, 200512.SZ, 200521.SZ, 200530.SZ, 200539.SZ, 200541.SZ, 200550.SZ, 200553.SZ, 200570.SZ, 200581.SZ, 200596.SZ, 200613.SZ, 200625.SZ, 200706.SZ, 200725.SZ, 200726.SZ, 200761.SZ, 200771.SZ, 200869.SZ, 200986.SZ, 200992.SZ, 600005.SH, 601313.SH\n",
      "Query data - daily fields prepared.\n",
      "(spearmanr    0.975295\n",
      "dtype: float64, array([0.]))\n"
     ]
    }
   ],
   "source": [
    "#BLEV因子复现检验\n",
    "dv.add_field('BLEV', ds)\n",
    "BLEV = dv.get_ts(\"BLEV\")\n",
    "print(spearman_factor(factor_u='BLEV', factor_j='BLEV_ME', start=start, symbol=stock_symbol))"
   ]
  },
  {
   "cell_type": "code",
   "execution_count": 11,
   "metadata": {},
   "outputs": [
    {
     "name": "stdout",
     "output_type": "stream",
     "text": [
      "Query data - query...\n",
      "当前请求query...\n",
      "{'fields': 'VOL120', 'view': 'factor'}\n",
      "下载进度1760/3512.\n",
      "WARNING: some data is unavailable: \n",
      "    At fields 000748.SZ, 200011.SZ, 200012.SZ, 200016.SZ, 200017.SZ, 200018.SZ, 200019.SZ, 200020.SZ, 200022.SZ, 200025.SZ, 200026.SZ, 200028.SZ, 200029.SZ, 200030.SZ, 200037.SZ, 200045.SZ, 200053.SZ, 200054.SZ, 200055.SZ, 200056.SZ, 200058.SZ, 200152.SZ, 200160.SZ, 200168.SZ, 200413.SZ, 200418.SZ, 200429.SZ, 200468.SZ, 200488.SZ, 200505.SZ, 200512.SZ, 200521.SZ, 200530.SZ, 200539.SZ, 200541.SZ, 200550.SZ, 200553.SZ, 200570.SZ, 200581.SZ, 200596.SZ, 200613.SZ, 200625.SZ, 200706.SZ, 200725.SZ, 200726.SZ, 200761.SZ, 200771.SZ, 200869.SZ, 200986.SZ, 200992.SZ, 600005.SH, 601313.SH\n",
      "Query data - daily fields prepared.\n",
      "(spearmanr    0.955627\n",
      "dtype: float64, array([0.]))\n"
     ]
    }
   ],
   "source": [
    "#VOL120因子复现检验\n",
    "dv.add_field('VOL120', ds)\n",
    "VOL120 = dv.get_ts(\"VOL120\")\n",
    "print(spearman_factor(factor_u='VOL120', factor_j='VOL121', start=start, symbol=stock_symbol))"
   ]
  },
  {
   "cell_type": "code",
   "execution_count": 12,
   "metadata": {},
   "outputs": [
    {
     "name": "stdout",
     "output_type": "stream",
     "text": [
      "Query data - query...\n",
      "当前请求query...\n",
      "{'fields': 'VOL20', 'view': 'factor'}\n",
      "下载进度1760/3512.\n",
      "WARNING: some data is unavailable: \n",
      "    At fields 000748.SZ, 200011.SZ, 200012.SZ, 200016.SZ, 200017.SZ, 200018.SZ, 200019.SZ, 200020.SZ, 200022.SZ, 200025.SZ, 200026.SZ, 200028.SZ, 200029.SZ, 200030.SZ, 200037.SZ, 200045.SZ, 200053.SZ, 200054.SZ, 200055.SZ, 200056.SZ, 200058.SZ, 200152.SZ, 200160.SZ, 200168.SZ, 200413.SZ, 200418.SZ, 200429.SZ, 200468.SZ, 200488.SZ, 200505.SZ, 200512.SZ, 200521.SZ, 200530.SZ, 200539.SZ, 200541.SZ, 200550.SZ, 200553.SZ, 200570.SZ, 200581.SZ, 200596.SZ, 200613.SZ, 200625.SZ, 200706.SZ, 200725.SZ, 200726.SZ, 200761.SZ, 200771.SZ, 200869.SZ, 200986.SZ, 200992.SZ, 600005.SH, 601313.SH\n",
      "Query data - daily fields prepared.\n",
      "(spearmanr    0.990322\n",
      "dtype: float64, array([0.]))\n"
     ]
    }
   ],
   "source": [
    "#VOL20因子复现检验\n",
    "dv.add_field('VOL20', ds)\n",
    "VOL120 = dv.get_ts(\"VOL20\")\n",
    "print(spearman_factor(factor_u='VOL20', factor_j='VOL201', start=start, symbol=stock_symbol))"
   ]
  },
  {
   "cell_type": "code",
   "execution_count": 63,
   "metadata": {},
   "outputs": [
    {
     "name": "stdout",
     "output_type": "stream",
     "text": [
      "Field [ADX_ME] is overwritten.\n"
     ]
    }
   ],
   "source": [
    "ADX_ME = sfm.ta('ADX',Close=Close,High=High,Low=Low, timeperiod=14)\n",
    "dv.append_df(ADX_ME,\"ADX_ME\")\n",
    "ADX = dv.get_ts(\"ADX\")\n",
    "ADX_ME = sfm.ta('ADX',Close=Close,High=High,Low=Low)\n",
    "#########################################################\n",
    "# sh300 = ds.index_daily(['000300.SH'],start,end,'close')\n",
    "# sh_s = np.array(sh300[0]['close'])\n",
    "# sh_data = {}\n",
    "# for i in sh.columns:\n",
    "#     sh_data[i] = sh_s\n",
    "# sh300_r = pd.DataFrame(data=sh_data,index=sh.index).pct_change()\n",
    "# data_r = dv.get_ts(\"close\").pct_change()"
   ]
  }
 ],
 "metadata": {
  "kernelspec": {
   "display_name": "Python 3",
   "language": "python",
   "name": "python3"
  },
  "language_info": {
   "codemirror_mode": {
    "name": "ipython",
    "version": 3
   },
   "file_extension": ".py",
   "mimetype": "text/x-python",
   "name": "python",
   "nbconvert_exporter": "python",
   "pygments_lexer": "ipython3",
   "version": "3.6.2"
  }
 },
 "nbformat": 4,
 "nbformat_minor": 2
}
